{
 "cells": [
  {
   "cell_type": "code",
   "execution_count": 1,
   "metadata": {
    "collapsed": true
   },
   "outputs": [],
   "source": [
    "import h5py as hdf\n",
    "import pandas as pd\n",
    "import numpy as np\n",
    "import matplotlib.pyplot as plt\n",
    "import nexusformat.nexus as nx\n",
    "from scipy.interpolate import griddata\n",
    "from lib.reader import *\n",
    "from lib.helpers import *\n",
    "from lib.imports import *\n",
    "from lib.filters import *\n",
    "from lib.visualize import *\n",
    "plt.style.use('M:\\\\Betrieb_ISF\\\\Gruppe_A_Orga\\\\Arbeitsgebiete\\\\Python_Auswerteskripte\\\\example_file.mplstyle')\n"
   ]
  },
  {
   "cell_type": "code",
   "execution_count": 2,
   "outputs": [
    {
     "ename": "NeXusError",
     "evalue": "'C:\\Users\\maede\\DESY\\data\\laht/' is not accessible",
     "output_type": "error",
     "traceback": [
      "\u001B[1;31m---------------------------------------------------------------------------\u001B[0m",
      "\u001B[1;31mNeXusError\u001B[0m                                Traceback (most recent call last)",
      "\u001B[1;32mc:\\temp\\TEMP_U~1/ipykernel_11928/3437167413.py\u001B[0m in \u001B[0;36m<module>\u001B[1;34m\u001B[0m\n\u001B[0;32m      1\u001B[0m \u001B[0mpath\u001B[0m\u001B[1;33m=\u001B[0m\u001B[1;34m'C:\\\\Users\\\\maede\\\\DESY\\\\data\\\\laht\\\\d5kW_oZW_LAHT-044.nxs'\u001B[0m\u001B[1;33m\u001B[0m\u001B[1;33m\u001B[0m\u001B[0m\n\u001B[1;32m----> 2\u001B[1;33m \u001B[0mf\u001B[0m\u001B[1;33m=\u001B[0m \u001B[0mnx\u001B[0m\u001B[1;33m.\u001B[0m\u001B[0mnxload\u001B[0m\u001B[1;33m(\u001B[0m\u001B[0mpath\u001B[0m\u001B[1;33m)\u001B[0m\u001B[1;33m\u001B[0m\u001B[1;33m\u001B[0m\u001B[0m\n\u001B[0m\u001B[0;32m      3\u001B[0m \u001B[0mprint\u001B[0m \u001B[1;33m(\u001B[0m\u001B[0mf\u001B[0m\u001B[1;33m.\u001B[0m\u001B[0mtree\u001B[0m\u001B[1;33m)\u001B[0m\u001B[1;33m\u001B[0m\u001B[1;33m\u001B[0m\u001B[0m\n\u001B[0;32m      4\u001B[0m \u001B[0mfiles\u001B[0m\u001B[1;33m=\u001B[0m\u001B[0mgather_files_regex\u001B[0m\u001B[1;33m(\u001B[0m\u001B[1;34m'C:\\\\Users\\\\maede\\\\DESY\\\\data\\\\laht'\u001B[0m\u001B[1;33m,\u001B[0m\u001B[1;34mr'\\S*nxs\\Z'\u001B[0m\u001B[1;33m)\u001B[0m\u001B[1;33m\u001B[0m\u001B[1;33m\u001B[0m\u001B[0m\n",
      "\u001B[1;32m~\\Anaconda3\\envs\\DESY\\lib\\site-packages\\nexusformat\\nexus\\tree.py\u001B[0m in \u001B[0;36mload\u001B[1;34m(filename, mode, recursive, **kwargs)\u001B[0m\n\u001B[0;32m   7244\u001B[0m     \u001B[1;32mif\u001B[0m \u001B[0mrecursive\u001B[0m \u001B[1;32mis\u001B[0m \u001B[1;32mNone\u001B[0m\u001B[1;33m:\u001B[0m\u001B[1;33m\u001B[0m\u001B[1;33m\u001B[0m\u001B[0m\n\u001B[0;32m   7245\u001B[0m         \u001B[0mrecursive\u001B[0m \u001B[1;33m=\u001B[0m \u001B[0mNX_RECURSIVE\u001B[0m\u001B[1;33m\u001B[0m\u001B[1;33m\u001B[0m\u001B[0m\n\u001B[1;32m-> 7246\u001B[1;33m     \u001B[1;32mwith\u001B[0m \u001B[0mNXFile\u001B[0m\u001B[1;33m(\u001B[0m\u001B[0mfilename\u001B[0m\u001B[1;33m,\u001B[0m \u001B[0mmode\u001B[0m\u001B[1;33m,\u001B[0m \u001B[0mrecursive\u001B[0m\u001B[1;33m=\u001B[0m\u001B[0mrecursive\u001B[0m\u001B[1;33m,\u001B[0m \u001B[1;33m**\u001B[0m\u001B[0mkwargs\u001B[0m\u001B[1;33m)\u001B[0m \u001B[1;32mas\u001B[0m \u001B[0mf\u001B[0m\u001B[1;33m:\u001B[0m\u001B[1;33m\u001B[0m\u001B[1;33m\u001B[0m\u001B[0m\n\u001B[0m\u001B[0;32m   7247\u001B[0m         \u001B[0mroot\u001B[0m \u001B[1;33m=\u001B[0m \u001B[0mf\u001B[0m\u001B[1;33m.\u001B[0m\u001B[0mreadfile\u001B[0m\u001B[1;33m(\u001B[0m\u001B[1;33m)\u001B[0m\u001B[1;33m\u001B[0m\u001B[1;33m\u001B[0m\u001B[0m\n\u001B[0;32m   7248\u001B[0m     \u001B[1;32mreturn\u001B[0m \u001B[0mroot\u001B[0m\u001B[1;33m\u001B[0m\u001B[1;33m\u001B[0m\u001B[0m\n",
      "\u001B[1;32m~\\Anaconda3\\envs\\DESY\\lib\\site-packages\\nexusformat\\nexus\\tree.py\u001B[0m in \u001B[0;36m__init__\u001B[1;34m(self, name, mode, recursive, **kwargs)\u001B[0m\n\u001B[0;32m    431\u001B[0m             \u001B[1;32mraise\u001B[0m \u001B[0mNeXusError\u001B[0m\u001B[1;33m(\u001B[0m\u001B[1;34m\"Invalid file mode\"\u001B[0m\u001B[1;33m)\u001B[0m\u001B[1;33m\u001B[0m\u001B[1;33m\u001B[0m\u001B[0m\n\u001B[0;32m    432\u001B[0m         \u001B[1;32melif\u001B[0m \u001B[1;32mnot\u001B[0m \u001B[0mos\u001B[0m\u001B[1;33m.\u001B[0m\u001B[0maccess\u001B[0m\u001B[1;33m(\u001B[0m\u001B[0mself\u001B[0m\u001B[1;33m.\u001B[0m\u001B[0m_filedir\u001B[0m\u001B[1;33m,\u001B[0m \u001B[0mos\u001B[0m\u001B[1;33m.\u001B[0m\u001B[0mR_OK\u001B[0m\u001B[1;33m)\u001B[0m\u001B[1;33m:\u001B[0m\u001B[1;33m\u001B[0m\u001B[1;33m\u001B[0m\u001B[0m\n\u001B[1;32m--> 433\u001B[1;33m             \u001B[1;32mraise\u001B[0m \u001B[0mNeXusError\u001B[0m\u001B[1;33m(\u001B[0m\u001B[1;34mf\"'{self._filedir}/' is not accessible\"\u001B[0m\u001B[1;33m)\u001B[0m\u001B[1;33m\u001B[0m\u001B[1;33m\u001B[0m\u001B[0m\n\u001B[0m\u001B[0;32m    434\u001B[0m         elif (mode == 'w' or mode == 'w-' or mode == 'w5' or mode == 'a' or\n\u001B[0;32m    435\u001B[0m               mode == 'x'):\n",
      "\u001B[1;31mNeXusError\u001B[0m: 'C:\\Users\\maede\\DESY\\data\\laht/' is not accessible"
     ]
    }
   ],
   "source": [
    "path='C:\\\\Users\\\\maede\\\\DESY\\\\data\\\\laht\\\\d5kW_oZW_LAHT-044.nxs'\n",
    "f= nx.nxload(path)\n",
    "print (f.tree)\n",
    "files=gather_files_regex('C:\\\\Users\\\\maede\\\\DESY\\\\data\\\\laht',r'\\S*nxs\\Z')"
   ],
   "metadata": {
    "collapsed": false,
    "pycharm": {
     "name": "#%%\n"
    }
   }
  },
  {
   "cell_type": "code",
   "execution_count": null,
   "outputs": [],
   "source": [
    "\n",
    "df0,df1=load_nxs(files[2])\n",
    "dfr0=get_energy_peaks(df0)\n",
    "dfr0=separate_energy_peak(dfr0,110,120)\n",
    "disp_peak_move(dfr0)"
   ],
   "metadata": {
    "collapsed": false,
    "pycharm": {
     "name": "#%%\n"
    }
   }
  },
  {
   "cell_type": "code",
   "execution_count": null,
   "outputs": [],
   "source": [],
   "metadata": {
    "collapsed": false,
    "pycharm": {
     "name": "#%%\n"
    }
   }
  },
  {
   "cell_type": "code",
   "execution_count": null,
   "outputs": [],
   "source": [
    "exs=pd.read_excel('experiments.xlsx',sheet_name='Tabelle3',header=0)\n",
    "exs['data']=exs.Messdatei.apply(load_nxs)"
   ],
   "metadata": {
    "collapsed": false,
    "pycharm": {
     "name": "#%%\n"
    }
   }
  },
  {
   "cell_type": "code",
   "execution_count": null,
   "outputs": [],
   "source": [
    "exs['ch0']=exs['data'].apply(lambda x :x[0] )\n",
    "exs['ch1']=exs['data'].apply(lambda x :x[1] )\n",
    "\n",
    "exs['ch0_energypeaks']=exs['ch0'].apply(get_energy_peaks)\n",
    "exs['ch1_energypeaks']=exs['ch1'].apply(get_energy_peaks)\n",
    "\n",
    "exs['ch0_energypeaks']=exs['ch0_energypeaks'].apply(lambda x : separate_energy_peak(x,103,110))\n",
    "exs['ch1_energypeaks']=exs['ch1_energypeaks'].apply(lambda x : separate_energy_peak(x,103,110))\n",
    "\n",
    "exs['ch0_ss']= exs['ch0_energypeaks'].apply(extract_ss_mean)\n",
    "exs['ch1_ss']= exs['ch1_energypeaks'].apply(extract_ss_mean)\n",
    "\n"
   ],
   "metadata": {
    "collapsed": false,
    "pycharm": {
     "name": "#%%\n"
    }
   }
  },
  {
   "cell_type": "code",
   "execution_count": null,
   "outputs": [],
   "source": [
    "groups={'HA':1,\n",
    "        'HA3Si1':2,\n",
    "        'LAHT':3,\n",
    "        'HAG199':4,\n",
    "        'LAHTG199':5,\n",
    "        'LAG199':6,\n",
    "        'LA3Si1':7,\n",
    "        'HAref':11,\n",
    "        'HAucref':12,\n",
    "        'LAHTref':31,\n",
    "        'LAHTucref':32,\n",
    "        'LAref':61,\n",
    "        }\n",
    "groups"
   ],
   "metadata": {
    "collapsed": false,
    "pycharm": {
     "name": "#%%\n"
    }
   }
  },
  {
   "cell_type": "code",
   "execution_count": null,
   "outputs": [],
   "source": [
    "cm=2.5\n",
    "dfs=exs[exs.Gruppe==groups['LAHT']]\n",
    "x=-dfs.X\n",
    "y=-dfs.Z\n",
    "z=dfs['ch1_ss']\n",
    "z=z.fillna(exs[exs.Gruppe==groups['LAHTref']]['ch0_ss'].mean())\n",
    "#z=z.fillna(105.90972527472528)\n",
    "105.90972527472528\n",
    "xedges = np.arange(*minmax(x))\n",
    "yedges = np.arange(*minmax(y))\n",
    "\n",
    "xcenters = xedges[:-1] + np.diff(xedges[:2])[0] / 2.\n",
    "ycenters = yedges[:-1] + np.diff(yedges[:2])[0] / 2.\n",
    "\n",
    "XI, YI = np.meshgrid(xcenters, ycenters)\n",
    "grid_z0 = griddata(list(zip(x,y)), z, (XI, YI), method='nearest')\n",
    "\n",
    "fig,ax=plt.subplots(figsize=(20/cm,4/cm))\n",
    "a=ax.imshow(sgolay2d(grid_z0,9,3),  origin='lower',cmap='plasma')\n",
    "#a=ax.imshow(grid_z0,  origin='lower',cmap='plasma')\n",
    "\n",
    "ax.scatter(x+10, y+20, 20,z,  edgecolor='k',lw=0.5,  cmap='plasma')\n",
    "ax.set_xticklabels([])\n",
    "ax.set_yticklabels([])\n",
    "cbar=fig.colorbar(a)\n",
    "cbar.ax.tick_params(size=0)\n",
    "cbar.set_ticks([])\n",
    "#cbar.set_ticks([a.colorbar.vmin + t*(a.colorbar.vmax-a.colorbar.vmin) for t in cbar.ax.get_yticks()])\n",
    "print(cbar.ax.get_yticks())\n",
    "#plt.axis('equal')\n",
    "plt.show()\n",
    "fig.savefig('result')"
   ],
   "metadata": {
    "collapsed": false,
    "pycharm": {
     "name": "#%%\n"
    }
   }
  },
  {
   "cell_type": "code",
   "execution_count": null,
   "outputs": [],
   "source": [
    "fig,ax=plt.subplots(figsize=(20,10))\n",
    "for i,val in enumerate(dfs['ch1_energypeaks']):\n",
    "    ax.plot(val.iloc[:,1],'o',markersize=1,label=i)\n",
    "plt.legend()\n",
    "plt.show()"
   ],
   "metadata": {
    "collapsed": false,
    "pycharm": {
     "name": "#%%\n"
    }
   }
  },
  {
   "cell_type": "code",
   "execution_count": null,
   "outputs": [],
   "source": [
    "display(dfs)"
   ],
   "metadata": {
    "collapsed": false,
    "pycharm": {
     "name": "#%%\n"
    }
   }
  },
  {
   "cell_type": "code",
   "execution_count": null,
   "outputs": [],
   "source": [],
   "metadata": {
    "collapsed": false,
    "pycharm": {
     "name": "#%%\n"
    }
   }
  },
  {
   "cell_type": "code",
   "execution_count": null,
   "outputs": [],
   "source": [],
   "metadata": {
    "collapsed": false,
    "pycharm": {
     "name": "#%%\n"
    }
   }
  }
 ],
 "metadata": {
  "kernelspec": {
   "name": "python3",
   "language": "python",
   "display_name": "Python 3 (ipykernel)"
  },
  "language_info": {
   "codemirror_mode": {
    "name": "ipython",
    "version": 2
   },
   "file_extension": ".py",
   "mimetype": "text/x-python",
   "name": "python",
   "nbconvert_exporter": "python",
   "pygments_lexer": "ipython2",
   "version": "2.7.6"
  }
 },
 "nbformat": 4,
 "nbformat_minor": 0
}