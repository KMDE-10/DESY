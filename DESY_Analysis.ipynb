{
 "cells": [
  {
   "cell_type": "code",
   "execution_count": 1,
   "metadata": {
    "collapsed": true
   },
   "outputs": [],
   "source": [
    "import h5py as hdf\n",
    "import pandas as pd\n",
    "import numpy as np\n",
    "import matplotlib.pyplot as plt\n",
    "import nexusformat.nexus as nx\n",
    "from scipy.interpolate import griddata\n",
    "from lib.reader import *\n",
    "from lib.helpers import *\n",
    "from lib.imports import *\n",
    "from lib.filters import *\n",
    "from lib.visualize import *\n",
    "plt.style.use('M:\\\\Betrieb_ISF\\\\Gruppe_A_Orga\\\\Arbeitsgebiete\\\\Python_Auswerteskripte\\\\example_file.mplstyle')\n"
   ]
  },
  {
   "cell_type": "code",
   "execution_count": 2,
   "outputs": [
    {
     "ename": "NeXusError",
     "evalue": "'C:\\Users\\maede\\DESY\\data\\laht/' is not accessible",
     "output_type": "error",
     "traceback": [
      "\u001B[1;31m---------------------------------------------------------------------------\u001B[0m",
      "\u001B[1;31mNeXusError\u001B[0m                                Traceback (most recent call last)",
      "\u001B[1;32mc:\\temp\\TEMP_U~1/ipykernel_20036/3437167413.py\u001B[0m in \u001B[0;36m<module>\u001B[1;34m\u001B[0m\n\u001B[0;32m      1\u001B[0m \u001B[0mpath\u001B[0m\u001B[1;33m=\u001B[0m\u001B[1;34m'C:\\\\Users\\\\maede\\\\DESY\\\\data\\\\laht\\\\d5kW_oZW_LAHT-044.nxs'\u001B[0m\u001B[1;33m\u001B[0m\u001B[1;33m\u001B[0m\u001B[0m\n\u001B[1;32m----> 2\u001B[1;33m \u001B[0mf\u001B[0m\u001B[1;33m=\u001B[0m \u001B[0mnx\u001B[0m\u001B[1;33m.\u001B[0m\u001B[0mnxload\u001B[0m\u001B[1;33m(\u001B[0m\u001B[0mpath\u001B[0m\u001B[1;33m)\u001B[0m\u001B[1;33m\u001B[0m\u001B[1;33m\u001B[0m\u001B[0m\n\u001B[0m\u001B[0;32m      3\u001B[0m \u001B[0mprint\u001B[0m \u001B[1;33m(\u001B[0m\u001B[0mf\u001B[0m\u001B[1;33m.\u001B[0m\u001B[0mtree\u001B[0m\u001B[1;33m)\u001B[0m\u001B[1;33m\u001B[0m\u001B[1;33m\u001B[0m\u001B[0m\n\u001B[0;32m      4\u001B[0m \u001B[0mfiles\u001B[0m\u001B[1;33m=\u001B[0m\u001B[0mgather_files_regex\u001B[0m\u001B[1;33m(\u001B[0m\u001B[1;34m'C:\\\\Users\\\\maede\\\\DESY\\\\data\\\\laht'\u001B[0m\u001B[1;33m,\u001B[0m\u001B[1;34mr'\\S*nxs\\Z'\u001B[0m\u001B[1;33m)\u001B[0m\u001B[1;33m\u001B[0m\u001B[1;33m\u001B[0m\u001B[0m\n",
      "\u001B[1;32m~\\Anaconda3\\envs\\DESY\\lib\\site-packages\\nexusformat\\nexus\\tree.py\u001B[0m in \u001B[0;36mload\u001B[1;34m(filename, mode, recursive, **kwargs)\u001B[0m\n\u001B[0;32m   7244\u001B[0m     \u001B[1;32mif\u001B[0m \u001B[0mrecursive\u001B[0m \u001B[1;32mis\u001B[0m \u001B[1;32mNone\u001B[0m\u001B[1;33m:\u001B[0m\u001B[1;33m\u001B[0m\u001B[1;33m\u001B[0m\u001B[0m\n\u001B[0;32m   7245\u001B[0m         \u001B[0mrecursive\u001B[0m \u001B[1;33m=\u001B[0m \u001B[0mNX_RECURSIVE\u001B[0m\u001B[1;33m\u001B[0m\u001B[1;33m\u001B[0m\u001B[0m\n\u001B[1;32m-> 7246\u001B[1;33m     \u001B[1;32mwith\u001B[0m \u001B[0mNXFile\u001B[0m\u001B[1;33m(\u001B[0m\u001B[0mfilename\u001B[0m\u001B[1;33m,\u001B[0m \u001B[0mmode\u001B[0m\u001B[1;33m,\u001B[0m \u001B[0mrecursive\u001B[0m\u001B[1;33m=\u001B[0m\u001B[0mrecursive\u001B[0m\u001B[1;33m,\u001B[0m \u001B[1;33m**\u001B[0m\u001B[0mkwargs\u001B[0m\u001B[1;33m)\u001B[0m \u001B[1;32mas\u001B[0m \u001B[0mf\u001B[0m\u001B[1;33m:\u001B[0m\u001B[1;33m\u001B[0m\u001B[1;33m\u001B[0m\u001B[0m\n\u001B[0m\u001B[0;32m   7247\u001B[0m         \u001B[0mroot\u001B[0m \u001B[1;33m=\u001B[0m \u001B[0mf\u001B[0m\u001B[1;33m.\u001B[0m\u001B[0mreadfile\u001B[0m\u001B[1;33m(\u001B[0m\u001B[1;33m)\u001B[0m\u001B[1;33m\u001B[0m\u001B[1;33m\u001B[0m\u001B[0m\n\u001B[0;32m   7248\u001B[0m     \u001B[1;32mreturn\u001B[0m \u001B[0mroot\u001B[0m\u001B[1;33m\u001B[0m\u001B[1;33m\u001B[0m\u001B[0m\n",
      "\u001B[1;32m~\\Anaconda3\\envs\\DESY\\lib\\site-packages\\nexusformat\\nexus\\tree.py\u001B[0m in \u001B[0;36m__init__\u001B[1;34m(self, name, mode, recursive, **kwargs)\u001B[0m\n\u001B[0;32m    431\u001B[0m             \u001B[1;32mraise\u001B[0m \u001B[0mNeXusError\u001B[0m\u001B[1;33m(\u001B[0m\u001B[1;34m\"Invalid file mode\"\u001B[0m\u001B[1;33m)\u001B[0m\u001B[1;33m\u001B[0m\u001B[1;33m\u001B[0m\u001B[0m\n\u001B[0;32m    432\u001B[0m         \u001B[1;32melif\u001B[0m \u001B[1;32mnot\u001B[0m \u001B[0mos\u001B[0m\u001B[1;33m.\u001B[0m\u001B[0maccess\u001B[0m\u001B[1;33m(\u001B[0m\u001B[0mself\u001B[0m\u001B[1;33m.\u001B[0m\u001B[0m_filedir\u001B[0m\u001B[1;33m,\u001B[0m \u001B[0mos\u001B[0m\u001B[1;33m.\u001B[0m\u001B[0mR_OK\u001B[0m\u001B[1;33m)\u001B[0m\u001B[1;33m:\u001B[0m\u001B[1;33m\u001B[0m\u001B[1;33m\u001B[0m\u001B[0m\n\u001B[1;32m--> 433\u001B[1;33m             \u001B[1;32mraise\u001B[0m \u001B[0mNeXusError\u001B[0m\u001B[1;33m(\u001B[0m\u001B[1;34mf\"'{self._filedir}/' is not accessible\"\u001B[0m\u001B[1;33m)\u001B[0m\u001B[1;33m\u001B[0m\u001B[1;33m\u001B[0m\u001B[0m\n\u001B[0m\u001B[0;32m    434\u001B[0m         elif (mode == 'w' or mode == 'w-' or mode == 'w5' or mode == 'a' or\n\u001B[0;32m    435\u001B[0m               mode == 'x'):\n",
      "\u001B[1;31mNeXusError\u001B[0m: 'C:\\Users\\maede\\DESY\\data\\laht/' is not accessible"
     ]
    }
   ],
   "source": [
    "path='C:\\\\Users\\\\maede\\\\DESY\\\\data\\\\laht\\\\d5kW_oZW_LAHT-044.nxs'\n",
    "f= nx.nxload(path)\n",
    "print (f.tree)\n",
    "files=gather_files_regex('C:\\\\Users\\\\maede\\\\DESY\\\\data\\\\laht',r'\\S*nxs\\Z')"
   ],
   "metadata": {
    "collapsed": false,
    "pycharm": {
     "name": "#%%\n"
    }
   }
  },
  {
   "cell_type": "code",
   "execution_count": 3,
   "outputs": [
    {
     "ename": "NameError",
     "evalue": "name 'files' is not defined",
     "output_type": "error",
     "traceback": [
      "\u001B[1;31m---------------------------------------------------------------------------\u001B[0m",
      "\u001B[1;31mNameError\u001B[0m                                 Traceback (most recent call last)",
      "\u001B[1;32mc:\\temp\\TEMP_U~1/ipykernel_20036/2520920182.py\u001B[0m in \u001B[0;36m<module>\u001B[1;34m\u001B[0m\n\u001B[0;32m    149\u001B[0m         \u001B[1;32mreturn\u001B[0m \u001B[0mscipy\u001B[0m\u001B[1;33m.\u001B[0m\u001B[0msignal\u001B[0m\u001B[1;33m.\u001B[0m\u001B[0mfftconvolve\u001B[0m\u001B[1;33m(\u001B[0m\u001B[0mZ\u001B[0m\u001B[1;33m,\u001B[0m \u001B[1;33m-\u001B[0m\u001B[0mr\u001B[0m\u001B[1;33m,\u001B[0m \u001B[0mmode\u001B[0m\u001B[1;33m=\u001B[0m\u001B[1;34m'valid'\u001B[0m\u001B[1;33m)\u001B[0m\u001B[1;33m,\u001B[0m \u001B[0mscipy\u001B[0m\u001B[1;33m.\u001B[0m\u001B[0msignal\u001B[0m\u001B[1;33m.\u001B[0m\u001B[0mfftconvolve\u001B[0m\u001B[1;33m(\u001B[0m\u001B[0mZ\u001B[0m\u001B[1;33m,\u001B[0m \u001B[1;33m-\u001B[0m\u001B[0mc\u001B[0m\u001B[1;33m,\u001B[0m \u001B[0mmode\u001B[0m\u001B[1;33m=\u001B[0m\u001B[1;34m'valid'\u001B[0m\u001B[1;33m)\u001B[0m\u001B[1;33m\u001B[0m\u001B[1;33m\u001B[0m\u001B[0m\n\u001B[0;32m    150\u001B[0m \u001B[1;33m\u001B[0m\u001B[0m\n\u001B[1;32m--> 151\u001B[1;33m \u001B[0mdf0\u001B[0m\u001B[1;33m,\u001B[0m\u001B[0mdf1\u001B[0m\u001B[1;33m=\u001B[0m\u001B[0mload_nxs\u001B[0m\u001B[1;33m(\u001B[0m\u001B[0mfiles\u001B[0m\u001B[1;33m[\u001B[0m\u001B[1;36m2\u001B[0m\u001B[1;33m]\u001B[0m\u001B[1;33m)\u001B[0m\u001B[1;33m\u001B[0m\u001B[1;33m\u001B[0m\u001B[0m\n\u001B[0m\u001B[0;32m    152\u001B[0m \u001B[0mdfr0\u001B[0m\u001B[1;33m=\u001B[0m\u001B[0mget_energy_peaks\u001B[0m\u001B[1;33m(\u001B[0m\u001B[0mdf0\u001B[0m\u001B[1;33m)\u001B[0m\u001B[1;33m\u001B[0m\u001B[1;33m\u001B[0m\u001B[0m\n\u001B[0;32m    153\u001B[0m \u001B[0mdfr0\u001B[0m\u001B[1;33m=\u001B[0m\u001B[0mseparate_energy_peak\u001B[0m\u001B[1;33m(\u001B[0m\u001B[0mdfr0\u001B[0m\u001B[1;33m,\u001B[0m\u001B[1;36m110\u001B[0m\u001B[1;33m,\u001B[0m\u001B[1;36m120\u001B[0m\u001B[1;33m)\u001B[0m\u001B[1;33m\u001B[0m\u001B[1;33m\u001B[0m\u001B[0m\n",
      "\u001B[1;31mNameError\u001B[0m: name 'files' is not defined"
     ]
    }
   ],
   "source": [
    "\n",
    "df0,df1=load_nxs(files[2])\n",
    "dfr0=get_energy_peaks(df0)\n",
    "dfr0=separate_energy_peak(dfr0,110,120)\n",
    "disp_peak_move(dfr0)"
   ],
   "metadata": {
    "collapsed": false,
    "pycharm": {
     "name": "#%%\n"
    }
   }
  },
  {
   "cell_type": "code",
   "execution_count": 4,
   "outputs": [],
   "source": [],
   "metadata": {
    "collapsed": false,
    "pycharm": {
     "name": "#%%\n"
    }
   }
  },
  {
   "cell_type": "code",
   "execution_count": 6,
   "outputs": [
    {
     "ename": "NeXusError",
     "evalue": "'G:\\2021-12-07_Desy_Messdaten\\complete\\raw\\HA_001\\experiments/' is not accessible",
     "output_type": "error",
     "traceback": [
      "\u001B[1;31m---------------------------------------------------------------------------\u001B[0m",
      "\u001B[1;31mNeXusError\u001B[0m                                Traceback (most recent call last)",
      "\u001B[1;32mc:\\temp\\TEMP_U~1/ipykernel_20036/1786189065.py\u001B[0m in \u001B[0;36m<module>\u001B[1;34m\u001B[0m\n\u001B[0;32m      1\u001B[0m \u001B[0mexs\u001B[0m\u001B[1;33m=\u001B[0m\u001B[0mpd\u001B[0m\u001B[1;33m.\u001B[0m\u001B[0mread_excel\u001B[0m\u001B[1;33m(\u001B[0m\u001B[1;34m'experiments.xlsx'\u001B[0m\u001B[1;33m,\u001B[0m\u001B[0msheet_name\u001B[0m\u001B[1;33m=\u001B[0m\u001B[1;34m'Tabelle3'\u001B[0m\u001B[1;33m,\u001B[0m\u001B[0mheader\u001B[0m\u001B[1;33m=\u001B[0m\u001B[1;36m0\u001B[0m\u001B[1;33m)\u001B[0m\u001B[1;33m\u001B[0m\u001B[1;33m\u001B[0m\u001B[0m\n\u001B[1;32m----> 2\u001B[1;33m \u001B[0mexs\u001B[0m\u001B[1;33m[\u001B[0m\u001B[1;34m'data'\u001B[0m\u001B[1;33m]\u001B[0m\u001B[1;33m=\u001B[0m\u001B[0mexs\u001B[0m\u001B[1;33m.\u001B[0m\u001B[0mMessdatei\u001B[0m\u001B[1;33m.\u001B[0m\u001B[0mapply\u001B[0m\u001B[1;33m(\u001B[0m\u001B[0mload_nxs\u001B[0m\u001B[1;33m)\u001B[0m\u001B[1;33m\u001B[0m\u001B[1;33m\u001B[0m\u001B[0m\n\u001B[0m",
      "\u001B[1;32m~\\Anaconda3\\envs\\DESY\\lib\\site-packages\\pandas\\core\\series.py\u001B[0m in \u001B[0;36mapply\u001B[1;34m(self, func, convert_dtype, args, **kwargs)\u001B[0m\n\u001B[0;32m   4355\u001B[0m         \u001B[0mdtype\u001B[0m\u001B[1;33m:\u001B[0m \u001B[0mfloat64\u001B[0m\u001B[1;33m\u001B[0m\u001B[1;33m\u001B[0m\u001B[0m\n\u001B[0;32m   4356\u001B[0m         \"\"\"\n\u001B[1;32m-> 4357\u001B[1;33m         \u001B[1;32mreturn\u001B[0m \u001B[0mSeriesApply\u001B[0m\u001B[1;33m(\u001B[0m\u001B[0mself\u001B[0m\u001B[1;33m,\u001B[0m \u001B[0mfunc\u001B[0m\u001B[1;33m,\u001B[0m \u001B[0mconvert_dtype\u001B[0m\u001B[1;33m,\u001B[0m \u001B[0margs\u001B[0m\u001B[1;33m,\u001B[0m \u001B[0mkwargs\u001B[0m\u001B[1;33m)\u001B[0m\u001B[1;33m.\u001B[0m\u001B[0mapply\u001B[0m\u001B[1;33m(\u001B[0m\u001B[1;33m)\u001B[0m\u001B[1;33m\u001B[0m\u001B[1;33m\u001B[0m\u001B[0m\n\u001B[0m\u001B[0;32m   4358\u001B[0m \u001B[1;33m\u001B[0m\u001B[0m\n\u001B[0;32m   4359\u001B[0m     def _reduce(\n",
      "\u001B[1;32m~\\Anaconda3\\envs\\DESY\\lib\\site-packages\\pandas\\core\\apply.py\u001B[0m in \u001B[0;36mapply\u001B[1;34m(self)\u001B[0m\n\u001B[0;32m   1041\u001B[0m             \u001B[1;32mreturn\u001B[0m \u001B[0mself\u001B[0m\u001B[1;33m.\u001B[0m\u001B[0mapply_str\u001B[0m\u001B[1;33m(\u001B[0m\u001B[1;33m)\u001B[0m\u001B[1;33m\u001B[0m\u001B[1;33m\u001B[0m\u001B[0m\n\u001B[0;32m   1042\u001B[0m \u001B[1;33m\u001B[0m\u001B[0m\n\u001B[1;32m-> 1043\u001B[1;33m         \u001B[1;32mreturn\u001B[0m \u001B[0mself\u001B[0m\u001B[1;33m.\u001B[0m\u001B[0mapply_standard\u001B[0m\u001B[1;33m(\u001B[0m\u001B[1;33m)\u001B[0m\u001B[1;33m\u001B[0m\u001B[1;33m\u001B[0m\u001B[0m\n\u001B[0m\u001B[0;32m   1044\u001B[0m \u001B[1;33m\u001B[0m\u001B[0m\n\u001B[0;32m   1045\u001B[0m     \u001B[1;32mdef\u001B[0m \u001B[0magg\u001B[0m\u001B[1;33m(\u001B[0m\u001B[0mself\u001B[0m\u001B[1;33m)\u001B[0m\u001B[1;33m:\u001B[0m\u001B[1;33m\u001B[0m\u001B[1;33m\u001B[0m\u001B[0m\n",
      "\u001B[1;32m~\\Anaconda3\\envs\\DESY\\lib\\site-packages\\pandas\\core\\apply.py\u001B[0m in \u001B[0;36mapply_standard\u001B[1;34m(self)\u001B[0m\n\u001B[0;32m   1096\u001B[0m                 \u001B[1;31m# List[Union[Callable[..., Any], str]]]]]\"; expected\u001B[0m\u001B[1;33m\u001B[0m\u001B[1;33m\u001B[0m\u001B[0m\n\u001B[0;32m   1097\u001B[0m                 \u001B[1;31m# \"Callable[[Any], Any]\"\u001B[0m\u001B[1;33m\u001B[0m\u001B[1;33m\u001B[0m\u001B[0m\n\u001B[1;32m-> 1098\u001B[1;33m                 mapped = lib.map_infer(\n\u001B[0m\u001B[0;32m   1099\u001B[0m                     \u001B[0mvalues\u001B[0m\u001B[1;33m,\u001B[0m\u001B[1;33m\u001B[0m\u001B[1;33m\u001B[0m\u001B[0m\n\u001B[0;32m   1100\u001B[0m                     \u001B[0mf\u001B[0m\u001B[1;33m,\u001B[0m  \u001B[1;31m# type: ignore[arg-type]\u001B[0m\u001B[1;33m\u001B[0m\u001B[1;33m\u001B[0m\u001B[0m\n",
      "\u001B[1;32m~\\Anaconda3\\envs\\DESY\\lib\\site-packages\\pandas\\_libs\\lib.pyx\u001B[0m in \u001B[0;36mpandas._libs.lib.map_infer\u001B[1;34m()\u001B[0m\n",
      "\u001B[1;32mc:\\temp\\TEMP_U~1/ipykernel_20036/2520920182.py\u001B[0m in \u001B[0;36mload_nxs\u001B[1;34m(path)\u001B[0m\n\u001B[0;32m     13\u001B[0m \u001B[1;32mdef\u001B[0m \u001B[0mload_nxs\u001B[0m\u001B[1;33m(\u001B[0m\u001B[0mpath\u001B[0m\u001B[1;33m)\u001B[0m\u001B[1;33m:\u001B[0m\u001B[1;33m\u001B[0m\u001B[1;33m\u001B[0m\u001B[0m\n\u001B[0;32m     14\u001B[0m     \u001B[1;32mimport\u001B[0m \u001B[0mnexusformat\u001B[0m\u001B[1;33m.\u001B[0m\u001B[0mnexus\u001B[0m \u001B[1;32mas\u001B[0m \u001B[0mnx\u001B[0m\u001B[1;33m\u001B[0m\u001B[1;33m\u001B[0m\u001B[0m\n\u001B[1;32m---> 15\u001B[1;33m     \u001B[0mf\u001B[0m\u001B[1;33m=\u001B[0m \u001B[0mnx\u001B[0m\u001B[1;33m.\u001B[0m\u001B[0mnxload\u001B[0m\u001B[1;33m(\u001B[0m\u001B[0mpath\u001B[0m\u001B[1;33m)\u001B[0m\u001B[1;33m\u001B[0m\u001B[1;33m\u001B[0m\u001B[0m\n\u001B[0m\u001B[0;32m     16\u001B[0m     \u001B[0mnbframes\u001B[0m\u001B[1;33m=\u001B[0m\u001B[0mnp\u001B[0m\u001B[1;33m.\u001B[0m\u001B[0marray\u001B[0m\u001B[1;33m(\u001B[0m\u001B[0mf\u001B[0m\u001B[1;33m[\u001B[0m\u001B[1;34m'entry'\u001B[0m\u001B[1;33m]\u001B[0m\u001B[1;33m[\u001B[0m\u001B[1;34m'instrument'\u001B[0m\u001B[1;33m]\u001B[0m\u001B[1;33m[\u001B[0m\u001B[1;34m'xspress3'\u001B[0m\u001B[1;33m]\u001B[0m\u001B[1;33m[\u001B[0m\u001B[1;34m'channel00'\u001B[0m\u001B[1;33m]\u001B[0m\u001B[1;33m[\u001B[0m\u001B[1;34m'histogram'\u001B[0m\u001B[1;33m]\u001B[0m\u001B[1;33m[\u001B[0m\u001B[1;33m:\u001B[0m\u001B[1;33m]\u001B[0m\u001B[1;33m)\u001B[0m\u001B[1;33m.\u001B[0m\u001B[0mshape\u001B[0m\u001B[1;33m[\u001B[0m\u001B[1;36m0\u001B[0m\u001B[1;33m]\u001B[0m\u001B[1;33m\u001B[0m\u001B[1;33m\u001B[0m\u001B[0m\n\u001B[0;32m     17\u001B[0m     \u001B[0meresolution\u001B[0m\u001B[1;33m=\u001B[0m\u001B[0mnp\u001B[0m\u001B[1;33m.\u001B[0m\u001B[0marray\u001B[0m\u001B[1;33m(\u001B[0m\u001B[0mf\u001B[0m\u001B[1;33m[\u001B[0m\u001B[1;34m'entry'\u001B[0m\u001B[1;33m]\u001B[0m\u001B[1;33m[\u001B[0m\u001B[1;34m'instrument'\u001B[0m\u001B[1;33m]\u001B[0m\u001B[1;33m[\u001B[0m\u001B[1;34m'xspress3'\u001B[0m\u001B[1;33m]\u001B[0m\u001B[1;33m[\u001B[0m\u001B[1;34m'channel00'\u001B[0m\u001B[1;33m]\u001B[0m\u001B[1;33m[\u001B[0m\u001B[1;34m'histogram'\u001B[0m\u001B[1;33m]\u001B[0m\u001B[1;33m[\u001B[0m\u001B[1;33m:\u001B[0m\u001B[1;33m]\u001B[0m\u001B[1;33m)\u001B[0m\u001B[1;33m.\u001B[0m\u001B[0mshape\u001B[0m\u001B[1;33m[\u001B[0m\u001B[1;36m1\u001B[0m\u001B[1;33m]\u001B[0m\u001B[1;33m\u001B[0m\u001B[1;33m\u001B[0m\u001B[0m\n",
      "\u001B[1;32m~\\Anaconda3\\envs\\DESY\\lib\\site-packages\\nexusformat\\nexus\\tree.py\u001B[0m in \u001B[0;36mload\u001B[1;34m(filename, mode, recursive, **kwargs)\u001B[0m\n\u001B[0;32m   7244\u001B[0m     \u001B[1;32mif\u001B[0m \u001B[0mrecursive\u001B[0m \u001B[1;32mis\u001B[0m \u001B[1;32mNone\u001B[0m\u001B[1;33m:\u001B[0m\u001B[1;33m\u001B[0m\u001B[1;33m\u001B[0m\u001B[0m\n\u001B[0;32m   7245\u001B[0m         \u001B[0mrecursive\u001B[0m \u001B[1;33m=\u001B[0m \u001B[0mNX_RECURSIVE\u001B[0m\u001B[1;33m\u001B[0m\u001B[1;33m\u001B[0m\u001B[0m\n\u001B[1;32m-> 7246\u001B[1;33m     \u001B[1;32mwith\u001B[0m \u001B[0mNXFile\u001B[0m\u001B[1;33m(\u001B[0m\u001B[0mfilename\u001B[0m\u001B[1;33m,\u001B[0m \u001B[0mmode\u001B[0m\u001B[1;33m,\u001B[0m \u001B[0mrecursive\u001B[0m\u001B[1;33m=\u001B[0m\u001B[0mrecursive\u001B[0m\u001B[1;33m,\u001B[0m \u001B[1;33m**\u001B[0m\u001B[0mkwargs\u001B[0m\u001B[1;33m)\u001B[0m \u001B[1;32mas\u001B[0m \u001B[0mf\u001B[0m\u001B[1;33m:\u001B[0m\u001B[1;33m\u001B[0m\u001B[1;33m\u001B[0m\u001B[0m\n\u001B[0m\u001B[0;32m   7247\u001B[0m         \u001B[0mroot\u001B[0m \u001B[1;33m=\u001B[0m \u001B[0mf\u001B[0m\u001B[1;33m.\u001B[0m\u001B[0mreadfile\u001B[0m\u001B[1;33m(\u001B[0m\u001B[1;33m)\u001B[0m\u001B[1;33m\u001B[0m\u001B[1;33m\u001B[0m\u001B[0m\n\u001B[0;32m   7248\u001B[0m     \u001B[1;32mreturn\u001B[0m \u001B[0mroot\u001B[0m\u001B[1;33m\u001B[0m\u001B[1;33m\u001B[0m\u001B[0m\n",
      "\u001B[1;32m~\\Anaconda3\\envs\\DESY\\lib\\site-packages\\nexusformat\\nexus\\tree.py\u001B[0m in \u001B[0;36m__init__\u001B[1;34m(self, name, mode, recursive, **kwargs)\u001B[0m\n\u001B[0;32m    431\u001B[0m             \u001B[1;32mraise\u001B[0m \u001B[0mNeXusError\u001B[0m\u001B[1;33m(\u001B[0m\u001B[1;34m\"Invalid file mode\"\u001B[0m\u001B[1;33m)\u001B[0m\u001B[1;33m\u001B[0m\u001B[1;33m\u001B[0m\u001B[0m\n\u001B[0;32m    432\u001B[0m         \u001B[1;32melif\u001B[0m \u001B[1;32mnot\u001B[0m \u001B[0mos\u001B[0m\u001B[1;33m.\u001B[0m\u001B[0maccess\u001B[0m\u001B[1;33m(\u001B[0m\u001B[0mself\u001B[0m\u001B[1;33m.\u001B[0m\u001B[0m_filedir\u001B[0m\u001B[1;33m,\u001B[0m \u001B[0mos\u001B[0m\u001B[1;33m.\u001B[0m\u001B[0mR_OK\u001B[0m\u001B[1;33m)\u001B[0m\u001B[1;33m:\u001B[0m\u001B[1;33m\u001B[0m\u001B[1;33m\u001B[0m\u001B[0m\n\u001B[1;32m--> 433\u001B[1;33m             \u001B[1;32mraise\u001B[0m \u001B[0mNeXusError\u001B[0m\u001B[1;33m(\u001B[0m\u001B[1;34mf\"'{self._filedir}/' is not accessible\"\u001B[0m\u001B[1;33m)\u001B[0m\u001B[1;33m\u001B[0m\u001B[1;33m\u001B[0m\u001B[0m\n\u001B[0m\u001B[0;32m    434\u001B[0m         elif (mode == 'w' or mode == 'w-' or mode == 'w5' or mode == 'a' or\n\u001B[0;32m    435\u001B[0m               mode == 'x'):\n",
      "\u001B[1;31mNeXusError\u001B[0m: 'G:\\2021-12-07_Desy_Messdaten\\complete\\raw\\HA_001\\experiments/' is not accessible"
     ]
    }
   ],
   "source": [
    "exs=pd.read_excel('experiments.xlsx',sheet_name='Tabelle3',header=0)\n",
    "exs['data']=exs.Messdatei.apply(load_nxs)"
   ],
   "metadata": {
    "collapsed": false,
    "pycharm": {
     "name": "#%%\n"
    }
   }
  },
  {
   "cell_type": "code",
   "execution_count": null,
   "outputs": [],
   "source": [
    "exs['ch0']=exs['data'].apply(lambda x :x[0] )\n",
    "exs['ch1']=exs['data'].apply(lambda x :x[1] )\n",
    "\n",
    "exs['ch0_energypeaks']=exs['ch0'].apply(get_energy_peaks)\n",
    "exs['ch1_energypeaks']=exs['ch1'].apply(get_energy_peaks)\n",
    "\n",
    "exs['ch0_energypeaks']=exs['ch0_energypeaks'].apply(lambda x : separate_energy_peak(x,103,110))\n",
    "exs['ch1_energypeaks']=exs['ch1_energypeaks'].apply(lambda x : separate_energy_peak(x,103,110))\n",
    "\n",
    "exs['ch0_ss']= exs['ch0_energypeaks'].apply(extract_ss_mean)\n",
    "exs['ch1_ss']= exs['ch1_energypeaks'].apply(extract_ss_mean)\n",
    "\n"
   ],
   "metadata": {
    "collapsed": false,
    "pycharm": {
     "name": "#%%\n"
    }
   }
  },
  {
   "cell_type": "code",
   "execution_count": null,
   "outputs": [],
   "source": [
    "groups={'HA':1,\n",
    "        'HA3Si1':2,\n",
    "        'LAHT':3,\n",
    "        'HAG199':4,\n",
    "        'LAHTG199':5,\n",
    "        'LAG199':6,\n",
    "        'LA3Si1':7,\n",
    "        'HAref':11,\n",
    "        'HAucref':12,\n",
    "        'LAHTref':31,\n",
    "        'LAHTucref':32,\n",
    "        'LAref':61,\n",
    "        }\n",
    "groups"
   ],
   "metadata": {
    "collapsed": false,
    "pycharm": {
     "name": "#%%\n"
    }
   }
  },
  {
   "cell_type": "code",
   "execution_count": null,
   "outputs": [],
   "source": [
    "cm=2.5\n",
    "dfs=exs[exs.Gruppe==groups['LAHT']]\n",
    "x=-dfs.X\n",
    "y=-dfs.Z\n",
    "z=dfs['ch1_ss']\n",
    "z=z.fillna(exs[exs.Gruppe==groups['LAHTref']]['ch0_ss'].mean())\n",
    "#z=z.fillna(105.90972527472528)\n",
    "105.90972527472528\n",
    "xedges = np.arange(*minmax(x))\n",
    "yedges = np.arange(*minmax(y))\n",
    "\n",
    "xcenters = xedges[:-1] + np.diff(xedges[:2])[0] / 2.\n",
    "ycenters = yedges[:-1] + np.diff(yedges[:2])[0] / 2.\n",
    "\n",
    "XI, YI = np.meshgrid(xcenters, ycenters)\n",
    "grid_z0 = griddata(list(zip(x,y)), z, (XI, YI), method='nearest')\n",
    "\n",
    "fig,ax=plt.subplots(figsize=(20/cm,4/cm))\n",
    "a=ax.imshow(sgolay2d(grid_z0,9,3),  origin='lower',cmap='plasma')\n",
    "#a=ax.imshow(grid_z0,  origin='lower',cmap='plasma')\n",
    "\n",
    "ax.scatter(x+10, y+20, 20,z,  edgecolor='k',lw=0.5,  cmap='plasma')\n",
    "ax.set_xticklabels([])\n",
    "ax.set_yticklabels([])\n",
    "cbar=fig.colorbar(a)\n",
    "cbar.ax.tick_params(size=0)\n",
    "cbar.set_ticks([])\n",
    "#cbar.set_ticks([a.colorbar.vmin + t*(a.colorbar.vmax-a.colorbar.vmin) for t in cbar.ax.get_yticks()])\n",
    "print(cbar.ax.get_yticks())\n",
    "#plt.axis('equal')\n",
    "plt.show()\n",
    "fig.savefig('result')"
   ],
   "metadata": {
    "collapsed": false,
    "pycharm": {
     "name": "#%%\n"
    }
   }
  },
  {
   "cell_type": "code",
   "execution_count": null,
   "outputs": [],
   "source": [
    "fig,ax=plt.subplots(figsize=(20,10))\n",
    "for i,val in enumerate(dfs['ch1_energypeaks']):\n",
    "    ax.plot(val.iloc[:,1],'o',markersize=1,label=i)\n",
    "plt.legend()\n",
    "plt.show()"
   ],
   "metadata": {
    "collapsed": false,
    "pycharm": {
     "name": "#%%\n"
    }
   }
  },
  {
   "cell_type": "code",
   "execution_count": null,
   "outputs": [],
   "source": [
    "display(dfs)"
   ],
   "metadata": {
    "collapsed": false,
    "pycharm": {
     "name": "#%%\n"
    }
   }
  },
  {
   "cell_type": "code",
   "execution_count": null,
   "outputs": [],
   "source": [],
   "metadata": {
    "collapsed": false,
    "pycharm": {
     "name": "#%%\n"
    }
   }
  },
  {
   "cell_type": "code",
   "execution_count": null,
   "outputs": [],
   "source": [],
   "metadata": {
    "collapsed": false,
    "pycharm": {
     "name": "#%%\n"
    }
   }
  }
 ],
 "metadata": {
  "kernelspec": {
   "display_name": "Python 3",
   "language": "python",
   "name": "python3"
  },
  "language_info": {
   "codemirror_mode": {
    "name": "ipython",
    "version": 2
   },
   "file_extension": ".py",
   "mimetype": "text/x-python",
   "name": "python",
   "nbconvert_exporter": "python",
   "pygments_lexer": "ipython2",
   "version": "2.7.6"
  }
 },
 "nbformat": 4,
 "nbformat_minor": 0
}